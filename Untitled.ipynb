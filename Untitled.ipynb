{
 "cells": [
  {
   "cell_type": "code",
   "execution_count": 1,
   "id": "2dca854a-0657-47fb-9b12-bcb4d4798ed1",
   "metadata": {
    "tags": []
   },
   "outputs": [
    {
     "name": "stdout",
     "output_type": "stream",
     "text": [
      "WARNING:tensorflow:From C:\\Users\\Berke\\AppData\\Local\\Programs\\Python\\Python311\\Lib\\site-packages\\keras\\src\\losses.py:2976: The name tf.losses.sparse_softmax_cross_entropy is deprecated. Please use tf.compat.v1.losses.sparse_softmax_cross_entropy instead.\n",
      "\n"
     ]
    }
   ],
   "source": [
    "import tensorflow as tf\n",
    "import numpy as np\n",
    "import pandas as pd\n",
    "import matplotlib\n",
    "import matplotlib.pyplot as plt\n",
    "import seaborn as sns\n",
    "from tensorflow.keras.preprocessing.text import Tokenizer\n",
    "from tensorflow.keras.preprocessing.sequence import pad_sequences\n",
    "from sklearn.model_selection import train_test_split\n",
    "import os"
   ]
  },
  {
   "cell_type": "code",
   "execution_count": 6,
   "id": "98000485-2798-4e9c-88e4-f7fa10f9d975",
   "metadata": {},
   "outputs": [],
   "source": [
    "\n",
    "import os\n",
    "import numpy as np\n",
    "\n",
    "\n",
    "norm_mails = []\n",
    "for i in range(1, 501):\n",
    "    file_path = os.path.join(data_dir, f\"norm{i}.txt\")\n",
    "    with open(file_path, \"r\", encoding=\"utf-8\") as f:  \n",
    "        norm_mails.append(f.read())\n",
    "\n",
    "\n",
    "spam_mails = []\n",
    "for i in range(1, 501):\n",
    "    file_path = os.path.join(data_dir, f\"spam{i}.txt\")\n",
    "    with open(file_path, \"r\", encoding=\"utf-8\") as f:  \n",
    "        spam_mails.append(f.read())\n",
    "y = np.array([0] * 500 + [1] * 500)\n",
    "\n",
    "# Etiketleri kaydetme\n",
    "np.save(\"norm_mails.npy\", norm_mails)\n",
    "np.save(\"spam_mails.npy\", spam_mails)\n",
    "np.save(\"y.npy\", y)"
   ]
  },
  {
   "cell_type": "code",
   "execution_count": 7,
   "id": "45ded29b-c7d3-46cf-b12b-aaf639e23fe7",
   "metadata": {},
   "outputs": [],
   "source": [
    "all_mails = np.concatenate((norm_mails, spam_mails))\n",
    "y = np.load(\"y.npy\")\n",
    "data = pd.DataFrame({'text': all_mails, 'spam': y})\n",
    "train_X, test_X, train_Y, test_Y = train_test_split(data['text'],\n",
    "                                                     data['spam'],\n",
    "                                                     test_size=0.2,\n",
    "                                                     random_state=42)"
   ]
  },
  {
   "cell_type": "code",
   "execution_count": 42,
   "id": "c0e3f02b-e31d-404d-a04b-cfccb88d4ede",
   "metadata": {},
   "outputs": [],
   "source": [
    "\n",
    "tokenizer = Tokenizer()\n",
    "tokenizer.fit_on_texts(train_X)\n",
    " \n",
    "\n",
    "train_sequences = tokenizer.texts_to_sequences(train_X)\n",
    "test_sequences = tokenizer.texts_to_sequences(test_X)\n",
    " \n",
    "\n",
    "max_len = 120\n",
    "train_sequences = pad_sequences(train_sequences,\n",
    "                                maxlen=max_len, \n",
    "                                padding='post', \n",
    "                                truncating='post')\n",
    "test_sequences = pad_sequences(test_sequences, \n",
    "                               maxlen=max_len, \n",
    "                               padding='post', \n",
    "                               truncating='post')"
   ]
  },
  {
   "cell_type": "code",
   "execution_count": 43,
   "id": "01d17ff4-e232-4fb8-88c8-4ba6972236b2",
   "metadata": {},
   "outputs": [
    {
     "name": "stdout",
     "output_type": "stream",
     "text": [
      "Model: \"sequential_6\"\n",
      "_________________________________________________________________\n",
      " Layer (type)                Output Shape              Param #   \n",
      "=================================================================\n",
      " embedding_5 (Embedding)     (None, 120, 32)           448992    \n",
      "                                                                 \n",
      " lstm_5 (LSTM)               (None, 16)                3136      \n",
      "                                                                 \n",
      " dense_10 (Dense)            (None, 32)                544       \n",
      "                                                                 \n",
      " dense_11 (Dense)            (None, 1)                 33        \n",
      "                                                                 \n",
      "=================================================================\n",
      "Total params: 452705 (1.73 MB)\n",
      "Trainable params: 452705 (1.73 MB)\n",
      "Non-trainable params: 0 (0.00 Byte)\n",
      "_________________________________________________________________\n"
     ]
    }
   ],
   "source": [
    " \n",
    "model = tf.keras.models.Sequential()\n",
    "model.add(tf.keras.layers.Embedding(input_dim=len(tokenizer.word_index) + 1,\n",
    "                                    output_dim=32, \n",
    "                                    input_length=max_len))\n",
    "model.add(tf.keras.layers.LSTM(16))\n",
    "model.add(tf.keras.layers.Dense(32, activation='relu'))\n",
    "model.add(tf.keras.layers.Dense(1, activation='sigmoid'))\n",
    " \n",
    "model.summary()"
   ]
  },
  {
   "cell_type": "code",
   "execution_count": 44,
   "id": "01347ac1-fef7-4082-ad77-05a983b4c6ea",
   "metadata": {},
   "outputs": [],
   "source": [
    "model.compile(loss = tf.keras.losses.BinaryCrossentropy(from_logits = True),\n",
    "              metrics = ['accuracy'],\n",
    "              optimizer = 'adam')"
   ]
  },
  {
   "cell_type": "code",
   "execution_count": 45,
   "id": "82291d59-1538-4efa-afb5-f377b7e985ed",
   "metadata": {},
   "outputs": [
    {
     "name": "stdout",
     "output_type": "stream",
     "text": [
      "Epoch 1/20\n",
      "25/25 [==============================] - 4s 48ms/step - loss: 0.6927 - accuracy: 0.5412 - val_loss: 0.6928 - val_accuracy: 0.5100\n",
      "Epoch 2/20\n",
      "25/25 [==============================] - 1s 23ms/step - loss: 0.6905 - accuracy: 0.5675 - val_loss: 0.6928 - val_accuracy: 0.5100\n",
      "Epoch 3/20\n",
      "25/25 [==============================] - 1s 23ms/step - loss: 0.6849 - accuracy: 0.5763 - val_loss: 0.6850 - val_accuracy: 0.5500\n",
      "Epoch 4/20\n",
      "25/25 [==============================] - 1s 24ms/step - loss: 0.6173 - accuracy: 0.6475 - val_loss: 0.6002 - val_accuracy: 0.6400\n",
      "Epoch 5/20\n",
      "25/25 [==============================] - 1s 25ms/step - loss: 0.3703 - accuracy: 0.8750 - val_loss: 0.5223 - val_accuracy: 0.8300\n",
      "Epoch 6/20\n",
      "25/25 [==============================] - 1s 23ms/step - loss: 0.2191 - accuracy: 0.9525 - val_loss: 0.5284 - val_accuracy: 0.8300\n",
      "Epoch 7/20\n",
      "25/25 [==============================] - 1s 24ms/step - loss: 0.1638 - accuracy: 0.9600 - val_loss: 0.5590 - val_accuracy: 0.8350\n",
      "Epoch 8/20\n",
      "25/25 [==============================] - 1s 25ms/step - loss: 0.1280 - accuracy: 0.9700 - val_loss: 0.5474 - val_accuracy: 0.8350\n",
      "Epoch 9/20\n",
      "25/25 [==============================] - 1s 25ms/step - loss: 0.1253 - accuracy: 0.9700 - val_loss: 0.5689 - val_accuracy: 0.8350\n",
      "Epoch 10/20\n",
      "25/25 [==============================] - 1s 23ms/step - loss: 0.1071 - accuracy: 0.9750 - val_loss: 0.5717 - val_accuracy: 0.8400\n",
      "Epoch 11/20\n",
      "25/25 [==============================] - 1s 25ms/step - loss: 0.1025 - accuracy: 0.9762 - val_loss: 0.6126 - val_accuracy: 0.8300\n",
      "Epoch 12/20\n",
      "25/25 [==============================] - 1s 24ms/step - loss: 0.1025 - accuracy: 0.9762 - val_loss: 0.5939 - val_accuracy: 0.8350\n",
      "Epoch 13/20\n",
      "25/25 [==============================] - 1s 24ms/step - loss: 0.1168 - accuracy: 0.9750 - val_loss: 0.6040 - val_accuracy: 0.8550\n",
      "Epoch 14/20\n",
      "25/25 [==============================] - 1s 25ms/step - loss: 0.1019 - accuracy: 0.9800 - val_loss: 0.6217 - val_accuracy: 0.8500\n",
      "Epoch 15/20\n",
      "25/25 [==============================] - 1s 25ms/step - loss: 0.0719 - accuracy: 0.9862 - val_loss: 0.5673 - val_accuracy: 0.8650\n",
      "Epoch 16/20\n",
      "25/25 [==============================] - 1s 23ms/step - loss: 0.0620 - accuracy: 0.9887 - val_loss: 0.5731 - val_accuracy: 0.8700\n",
      "Epoch 17/20\n",
      "25/25 [==============================] - 1s 24ms/step - loss: 0.0564 - accuracy: 0.9900 - val_loss: 0.5823 - val_accuracy: 0.8700\n",
      "Epoch 18/20\n",
      "25/25 [==============================] - 1s 25ms/step - loss: 0.0562 - accuracy: 0.9900 - val_loss: 0.5963 - val_accuracy: 0.8700\n",
      "Epoch 19/20\n",
      "25/25 [==============================] - 1s 24ms/step - loss: 0.0499 - accuracy: 0.9912 - val_loss: 0.5786 - val_accuracy: 0.8750\n",
      "Epoch 20/20\n",
      "25/25 [==============================] - 1s 23ms/step - loss: 0.0387 - accuracy: 0.9937 - val_loss: 0.6260 - val_accuracy: 0.8700\n"
     ]
    }
   ],
   "source": [
    "history = model.fit(train_sequences, train_Y,\n",
    "                    validation_data=(test_sequences, test_Y),\n",
    "                    epochs=20, \n",
    "                    batch_size=32\n",
    "                   )"
   ]
  },
  {
   "cell_type": "code",
   "execution_count": 46,
   "id": "b5a60707-d2e6-42f7-9a46-ba70f2e715c4",
   "metadata": {},
   "outputs": [
    {
     "name": "stdout",
     "output_type": "stream",
     "text": [
      "7/7 [==============================] - 0s 9ms/step - loss: 0.6260 - accuracy: 0.8700\n",
      "Test Loss : 0.6260371804237366\n",
      "Test Accuracy : 0.8700000047683716\n"
     ]
    }
   ],
   "source": [
    "test_loss, test_accuracy = model.evaluate(test_sequences, test_Y)\n",
    "print('Test Loss :',test_loss)\n",
    "print('Test Accuracy :',test_accuracy)"
   ]
  },
  {
   "cell_type": "code",
   "execution_count": 47,
   "id": "b4185cdf-652c-4987-86b5-f8438b4f085b",
   "metadata": {},
   "outputs": [
    {
     "data": {
      "image/png": "[encoded data removed]",
      "text/plain": [
       "<Figure size 640x480 with 1 Axes>"
      ]
     },
     "metadata": {},
     "output_type": "display_data"
    }
   ],
   "source": [
    " \n",
    "plt.plot(history.history['accuracy'], label='Training Accuracy')\n",
    "plt.plot(history.history['val_accuracy'], label='Validation Accuracy')\n",
    "plt.title('Model Accuracy')\n",
    "plt.ylabel('Accuracy')\n",
    "plt.xlabel('Epoch')\n",
    "plt.legend()\n",
    "plt.show()"
   ]
  },
  {
   "cell_type": "code",
   "execution_count": null,
   "id": "59d67b16-863c-46ad-8f47-953bd2914a38",
   "metadata": {},
   "outputs": [],
   "source": []
  },
  {
   "cell_type": "code",
   "execution_count": null,
   "id": "fbea4afe-d60f-4fcb-bef2-1acd8947fb2c",
   "metadata": {},
   "outputs": [],
   "source": []
  }
 ],
 "metadata": {
  "kernelspec": {
   "display_name": "Python 3 (ipykernel)",
   "language": "python",
   "name": "python3"
  },
  "language_info": {
   "codemirror_mode": {
    "name": "ipython",
    "version": 3
   },
   "file_extension": ".py",
   "mimetype": "text/x-python",
   "name": "python",
   "nbconvert_exporter": "python",
   "pygments_lexer": "ipython3",
   "version": "3.11.6"
  }
 },
 "nbformat": 4,
 "nbformat_minor": 5
}
